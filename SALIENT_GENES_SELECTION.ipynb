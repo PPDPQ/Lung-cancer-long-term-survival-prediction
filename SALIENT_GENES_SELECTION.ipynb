{
 "cells": [
  {
   "cell_type": "markdown",
   "id": "cdb373e5",
   "metadata": {},
   "source": [
    "## Salient genes selection based on mutual information"
   ]
  },
  {
   "cell_type": "code",
   "execution_count": null,
   "id": "eda5c1b6",
   "metadata": {},
   "outputs": [],
   "source": [
    "%%time\n",
    "#Importing Libraries\n",
    "import numpy as np\n",
    "import pandas as pd\n",
    "import matplotlib.pyplot as plt\n",
    "import seaborn as sns\n",
    "import re\n",
    "#import tensorflow as tf\n",
    "\n",
    "#scikitlearn\n",
    "from sklearn.model_selection import train_test_split\n",
    "#from sklearn.ensemble import RandomForestRegressor, RandomForestClassifier\n",
    "from sklearn.metrics import mutual_info_score\n",
    "from sklearn.neighbors import NearestNeighbors\n",
    "from sklearn.preprocessing import scale\n",
    "from sklearn.utils import check_random_state\n",
    "from sklearn.utils.fixes import _astype_copy_false\n",
    "from sklearn.utils.validation import check_array, check_X_y\n",
    "from sklearn.utils.validation import _deprecate_positional_args\n",
    "from sklearn.utils.multiclass import check_classification_targets\n",
    "from sklearn.metrics import accuracy_score\n",
    "from sklearn.metrics import f1_score\n",
    "from sklearn.metrics import confusion_matrix\n",
    "from sklearn.metrics.pairwise import cosine_similarity\n",
    "from sklearn import svm\n",
    "from sklearn.feature_selection import VarianceThreshold\n",
    "from sklearn.feature_selection import SelectKBest, SelectPercentile\n",
    "from sklearn.feature_selection import mutual_info_classif\n",
    "from sklearn.linear_model import LogisticRegression\n",
    "from sklearn.neighbors import KNeighborsClassifier\n",
    "from scipy import special, stats\n",
    "from scipy.sparse import issparse\n",
    "from sklearn.base import BaseEstimator\n",
    "from sklearn.preprocessing import LabelBinarizer\n",
    "from sklearn.utils import (as_float_array, check_array, check_X_y, safe_sqr,safe_mask)\n",
    "from sklearn.utils.extmath import safe_sparse_dot, row_norms\n",
    "from sklearn.utils.validation import check_is_fitted\n",
    "from sklearn.utils.validation import _deprecate_positional_args\n",
    "from sklearn.feature_selection._base import SelectorMixin\n",
    "from sklearn.metrics import roc_auc_score\n",
    "#from sklearn.metrics.cluster import check_clusterings\n",
    "from sklearn.metrics.cluster import contingency_matrix\n",
    "from sklearn import metrics\n",
    "from sklearn import preprocessing\n",
    "from scipy.sparse import issparse\n",
    "from scipy.special import digamma\n",
    "import scipy.stats as stats\n",
    "\n",
    "from subprocess import check_output\n",
    "\n",
    "from math import log\n",
    "\n",
    "import warnings\n",
    "\n",
    "#keras\n",
    "#import keras\n",
    "#from keras.layers import Activation\n",
    "#from tensorflow.keras import layers\n",
    "#from keras.layers.normalization import BatchNormalization\n",
    "#from keras import models\n",
    "#from keras import layers\n",
    "#from keras.layers import Input, Dense\n",
    "#from keras.models import Model\n",
    "#from keras import regularizers\n",
    "#from keras.layers import Dropout\n",
    "#from keras import backend as K\n",
    "\n",
    "#lifelines\n",
    "#from lifelines.datasets import load_waltons\n",
    "#from lifelines import KaplanMeierFitter\n",
    "#from lifelines.utils import median_survival_times\n",
    "#from lifelines.datasets import load_regression_dataset\n",
    "#from lifelines import CoxPHFitter\n",
    "\n",
    "#garage collector\n",
    "import gc\n",
    "\n",
    "#networkx\n",
    "#import networkx as nx"
   ]
  },
  {
   "cell_type": "code",
   "execution_count": null,
   "id": "916a8d08",
   "metadata": {},
   "outputs": [],
   "source": [
    "#转置dataFrame\n",
    "def trans(df1):\n",
    "    df2=pd.DataFrame(df1.values.T,columns=df1.index,index=df1.columns)\n",
    "    return df2 "
   ]
  },
  {
   "cell_type": "code",
   "execution_count": null,
   "id": "fb2823f2",
   "metadata": {},
   "outputs": [],
   "source": [
    "# Select the time-to-event time\n",
    "def selected_time(selected_time, time, event):\n",
    "    if (time > selected_time): return 0\n",
    "    else:\n",
    "        if (event == 1.0): return 1\n",
    "        else: return None"
   ]
  },
  {
   "cell_type": "code",
   "execution_count": null,
   "id": "97014d6e",
   "metadata": {},
   "outputs": [],
   "source": [
    "survival_metric='OS'\n",
    "survival_time='OS.time'\n",
    "time=1825\n",
    "model_save_path='./saved_models/lung_model_cnn_{}_{}.h5'.format(survival_metric,time)"
   ]
  },
  {
   "cell_type": "code",
   "execution_count": null,
   "id": "a65bbae6",
   "metadata": {},
   "outputs": [],
   "source": [
    "%%time\n",
    "Y_type=pd.read_hdf('data/Preprocessed_Data/PanCancer.h5',key='sample_type')\n",
    "Y_clinical=pd.read_hdf('data/Preprocessed_Data/PanCancer.h5',key='clinical')"
   ]
  },
  {
   "cell_type": "code",
   "execution_count": null,
   "id": "2fc4e9c9",
   "metadata": {},
   "outputs": [],
   "source": [
    "Y_clinical=Y_clinical.loc[Y_type.pathology_status=='Tumor']\n",
    "Y_clinical.dropna(subset=[survival_metric, survival_time], inplace=True)"
   ]
  },
  {
   "cell_type": "code",
   "execution_count": null,
   "id": "28020fe5",
   "metadata": {},
   "outputs": [],
   "source": [
    "Y_clinical_categorical = Y_clinical[[survival_metric, survival_time]].apply(lambda row: selected_time(time, row[survival_time], row[survival_metric]), axis=1)\n",
    "Y_clinical_categorical.dropna(inplace=True)\n",
    "Y_clinical_categorical"
   ]
  },
  {
   "cell_type": "code",
   "execution_count": null,
   "id": "6a7061aa",
   "metadata": {},
   "outputs": [],
   "source": [
    "Y_type.head()"
   ]
  },
  {
   "cell_type": "code",
   "execution_count": null,
   "id": "89092398",
   "metadata": {},
   "outputs": [],
   "source": [
    "Y_clinical.head()"
   ]
  },
  {
   "cell_type": "code",
   "execution_count": null,
   "id": "65f10ec3",
   "metadata": {},
   "outputs": [],
   "source": [
    "%%time\n",
    "#读取基因表达数据\n",
    "pan_gene_expre=pd.read_hdf('data/Preprocessed_Data/PanCancer.h5',key='gene_expression')"
   ]
  },
  {
   "cell_type": "code",
   "execution_count": null,
   "id": "5e4b09a9",
   "metadata": {},
   "outputs": [],
   "source": [
    "X_gene_exp=pan_gene_expre.loc[[s for s in Y_clinical_categorical.index]]"
   ]
  },
  {
   "cell_type": "code",
   "execution_count": null,
   "id": "83d188ee",
   "metadata": {},
   "outputs": [],
   "source": [
    "X_gene_exp"
   ]
  },
  {
   "cell_type": "code",
   "execution_count": null,
   "id": "94b37f94",
   "metadata": {},
   "outputs": [],
   "source": [
    "%%time\n",
    "pan_gene_expre.index.name='sample'\n",
    "pan_gene_expre.columns.name='gene'"
   ]
  },
  {
   "cell_type": "code",
   "execution_count": null,
   "id": "75e06a13",
   "metadata": {},
   "outputs": [],
   "source": [
    "pan_gene_expre"
   ]
  },
  {
   "cell_type": "code",
   "execution_count": null,
   "id": "a675da2b",
   "metadata": {},
   "outputs": [],
   "source": [
    "X=X_gene_exp"
   ]
  },
  {
   "cell_type": "code",
   "execution_count": null,
   "id": "c241eb04",
   "metadata": {},
   "outputs": [],
   "source": [
    "'''\n",
    "%%time\n",
    "pan_sample_types=pd.read_hdf('data/Preprocessed_Data/PanCancer.h5',key='sample_type')\n",
    "pan_sample_types.head()\n",
    "'''"
   ]
  },
  {
   "cell_type": "code",
   "execution_count": null,
   "id": "d1ae215f",
   "metadata": {},
   "outputs": [],
   "source": [
    "'''\n",
    "%%time\n",
    "y=pan_sample_types['sample_type_id']\n",
    "y.head()\n",
    "'''"
   ]
  },
  {
   "cell_type": "code",
   "execution_count": null,
   "id": "0a611922",
   "metadata": {},
   "outputs": [],
   "source": [
    "y=Y_clinical_categorical"
   ]
  },
  {
   "cell_type": "code",
   "execution_count": null,
   "id": "6fa1e30f",
   "metadata": {},
   "outputs": [],
   "source": [
    "y.value_counts(normalize=True,ascending=False)"
   ]
  },
  {
   "cell_type": "code",
   "execution_count": null,
   "id": "a236951b",
   "metadata": {},
   "outputs": [],
   "source": [
    "print(X.shape)\n",
    "print(y.shape)"
   ]
  },
  {
   "cell_type": "code",
   "execution_count": null,
   "id": "ff4f45c0",
   "metadata": {},
   "outputs": [],
   "source": [
    "X=X.loc[[s for s in y.index]]"
   ]
  },
  {
   "cell_type": "code",
   "execution_count": null,
   "id": "a4ff41ed",
   "metadata": {},
   "outputs": [],
   "source": [
    "%%time\n",
    "#区分训练集和测试集\n",
    "X_train, X_test, y_train, y_test = train_test_split(X, y, test_size=0.2, random_state=101)\n",
    "X_train.shape, y_train.shape, X_test.shape, y_test.shape"
   ]
  },
  {
   "cell_type": "code",
   "execution_count": null,
   "id": "eec491cc",
   "metadata": {},
   "outputs": [],
   "source": [
    "%%time\n",
    "#varianceThreshold去掉在某一维完全一样以及某一维方差小于阈值的特征\n",
    "#from sklearn.feature_selection import VarianceThreshold\n",
    "selector = VarianceThreshold(threshold=15)\n",
    "selector.fit(X_train) #只fit train才能保证train和test维度一样\n",
    "X_train_filter = selector.transform(X_train)\n",
    "X_test_filter = selector.transform(X_test)"
   ]
  },
  {
   "cell_type": "code",
   "execution_count": null,
   "id": "2156055e",
   "metadata": {},
   "outputs": [],
   "source": [
    "pd.DataFrame(X_train_filter)"
   ]
  },
  {
   "cell_type": "code",
   "execution_count": null,
   "id": "d4333355",
   "metadata": {},
   "outputs": [],
   "source": [
    "#尝试保留columns(基因）名\n",
    "genes_name=X.columns.values.tolist()\n",
    "select_name_index0=selector.get_support(indices=True)\n",
    "select_name0=[]\n",
    "for i in select_name_index0:\n",
    "    select_name0.append(genes_name[i]) #这是剩下来的基因名\n",
    "len(select_name0)"
   ]
  },
  {
   "cell_type": "code",
   "execution_count": null,
   "id": "f6d8ff18",
   "metadata": {},
   "outputs": [],
   "source": [
    "%%time\n",
    "X_train_T = X_train_filter.T\n",
    "X_test_T = X_test_filter.T\n",
    "X_train_T = pd.DataFrame(X_train_T)\n",
    "X_test_T = pd.DataFrame(X_test_T)"
   ]
  },
  {
   "cell_type": "code",
   "execution_count": null,
   "id": "e5318ef9",
   "metadata": {},
   "outputs": [],
   "source": [
    "#还原基因名\n",
    "X_train_T.index=select_name0\n",
    "X_test_T.index=select_name0\n",
    "print(X_train_T.head())\n",
    "print(X_test_T.head())"
   ]
  },
  {
   "cell_type": "code",
   "execution_count": null,
   "id": "ede3d341",
   "metadata": {},
   "outputs": [],
   "source": [
    "%%time\n",
    "X_train_T.duplicated().sum()"
   ]
  },
  {
   "cell_type": "code",
   "execution_count": null,
   "id": "8b61851f",
   "metadata": {},
   "outputs": [],
   "source": [
    "%%time\n",
    "duplicated_features = X_train_T.duplicated()"
   ]
  },
  {
   "cell_type": "code",
   "execution_count": null,
   "id": "615cb860",
   "metadata": {},
   "outputs": [],
   "source": [
    "%%time\n",
    "features_kept = [not index for index in duplicated_features]\n",
    "X_train_unique = X_train_T[features_kept].T\n",
    "X_test_unique = X_test_T[features_kept].T\n",
    "X_train_unique.shape, X_test_unique.shape"
   ]
  },
  {
   "cell_type": "code",
   "execution_count": null,
   "id": "5415f5e4",
   "metadata": {},
   "outputs": [],
   "source": [
    "X_test_unique"
   ]
  },
  {
   "cell_type": "code",
   "execution_count": null,
   "id": "6a50db0a",
   "metadata": {},
   "outputs": [],
   "source": [
    "#用knn模型做二分类预测来评估特征选择\n",
    "from sklearn.metrics import accuracy_score \n",
    "def test_knn(X_train, X_test, y_train, y_test):\n",
    "    knn_model =KNeighborsClassifier()\n",
    "    knn_model.fit(X_train, y_train)\n",
    "    y_pred = knn_model.predict(X_train)\n",
    "    y_test_pred=knn_model.predict(X_test)\n",
    "    print('Training 80% data report::')\n",
    "    print('Accuracy Score: ')\n",
    "    print(accuracy_score(y_train, y_pred))\n",
    "    print('F1-Score: ')\n",
    "    print(f1_score(y_train, y_pred,average=\"weighted\")) #考虑到类别的不平衡，故选择weighted\n",
    "    print('Confusion Matrix: ')\n",
    "    print(confusion_matrix(y_train, y_pred))\n",
    "    print('Testing 20% data report::')\n",
    "    print('Accuracy Score: ')\n",
    "    print(accuracy_score(y_test, y_test_pred))\n",
    "    print('F1-Score: ')\n",
    "    print(f1_score(y_test, y_test_pred,average=\"weighted\"))\n",
    "    print('Confusion Matrix: ')\n",
    "    print(confusion_matrix(y_test, y_test_pred))"
   ]
  },
  {
   "cell_type": "code",
   "execution_count": null,
   "id": "709a7758",
   "metadata": {},
   "outputs": [],
   "source": [
    "#用SVM~~~（速度极慢）\n",
    "def test_svm(X_train, X_test, y_train, y_test):\n",
    "    svm_model =svm.SVC()\n",
    "    svm_model.fit(X_train, y_train)\n",
    "    y_pred = svm_model.predict(X_train)\n",
    "    y_test_pred=svm_model.predict(X_test)\n",
    "    print('Training 80% data report::')\n",
    "    print('Accuracy Score: ')\n",
    "    print(accuracy_score(y_train, y_pred))\n",
    "    print('F1-Score: ')\n",
    "    print(f1_score(y_train, y_pred,average=\"weighted\"))\n",
    "    print('Confusion Matrix: ')\n",
    "    print(confusion_matrix(y_train, y_pred))\n",
    "    print('Testing 20% data report::')\n",
    "    print('Accuracy Score: ')\n",
    "    print(accuracy_score(y_test, y_test_pred))\n",
    "    print('F1-Score: ')\n",
    "    print(f1_score(y_test, y_test_pred,average=\"weighted\"))\n",
    "    print('Confusion Matrix: ')\n",
    "    print(confusion_matrix(y_test, y_test_pred))"
   ]
  },
  {
   "cell_type": "code",
   "execution_count": null,
   "id": "86e8f0af",
   "metadata": {},
   "outputs": [],
   "source": [
    "'''\n",
    "#driver code\n",
    "def _compute_mi(x, y, n_neighbors=3):\n",
    "        return mutual_info_score(x, y)\n",
    "\n",
    "def _iterate_columns(X, columns=None):\n",
    "    if columns is None:\n",
    "        columns = range(X.shape[1])\n",
    "\n",
    "    if issparse(X):\n",
    "        for i in columns:\n",
    "            x = np.zeros(X.shape[0])\n",
    "            start_ptr, end_ptr = X.indptr[i], X.indptr[i + 1]\n",
    "            x[X.indices[start_ptr:end_ptr]] = X.data[start_ptr:end_ptr]\n",
    "            yield x\n",
    "    else:\n",
    "        for i in columns:\n",
    "            yield X[:, i]\n",
    "\n",
    "\n",
    "def _estimate_mi(X, y,n_neighbors=3):\n",
    "    X, y = check_X_y(X, y, accept_sparse='csc')\n",
    "    n_samples, n_features = X.shape\n",
    "    discrete_features = issparse(X)\n",
    "    discrete_mask = np.empty(n_features, dtype=bool)\n",
    "    discrete_mask.fill(discrete_features)\n",
    "    \n",
    "    mi = [_compute_mi(x, y, n_neighbors) for\n",
    "          x, discrete_feature in zip(_iterate_columns(X), discrete_mask)]\n",
    "\n",
    "    return np.array(mi)\n",
    "\n",
    "def mutual_info_classifier(X, y, n_neighbors=3,):\n",
    "    check_classification_targets(y)\n",
    "    return _estimate_mi(X, y, n_neighbors)\n",
    "'''"
   ]
  },
  {
   "cell_type": "code",
   "execution_count": null,
   "id": "e514c83f",
   "metadata": {},
   "outputs": [],
   "source": [
    "'''\n",
    "%%time\n",
    "mi = mutual_info_classifier(X_train_unique, y_train) \n",
    "len(mi)\n",
    "'''"
   ]
  },
  {
   "cell_type": "code",
   "execution_count": null,
   "id": "87eaf7f2",
   "metadata": {},
   "outputs": [],
   "source": [
    "'''\n",
    "mi[: 10]\n",
    "'''"
   ]
  },
  {
   "cell_type": "code",
   "execution_count": null,
   "id": "8cd2f517",
   "metadata": {},
   "outputs": [],
   "source": [
    "'''\n",
    "%%time\n",
    "mi = pd.Series(mi)\n",
    "mi.index = X_train_unique.columns\n",
    "'''"
   ]
  },
  {
   "cell_type": "code",
   "execution_count": null,
   "id": "7693fa09",
   "metadata": {},
   "outputs": [],
   "source": [
    "'''\n",
    "mi.sort_values(ascending=False, inplace = True)\n",
    "'''"
   ]
  },
  {
   "cell_type": "code",
   "execution_count": null,
   "id": "f470a35f",
   "metadata": {},
   "outputs": [],
   "source": [
    "%%time\n",
    "#计算mutual information score\n",
    "def mi_based_selector(X_train, y_train, X_test):\n",
    "    fs = SelectKBest(score_func=mutual_info_classif, k=1000)\n",
    "    fs.fit(X_train, y_train)\n",
    "    X_train_fs = fs.transform(X_train)\n",
    "    X_test_fs = fs.transform(X_test)\n",
    "    return X_train_fs, X_test_fs, fs"
   ]
  },
  {
   "cell_type": "code",
   "execution_count": null,
   "id": "43c1c697",
   "metadata": {},
   "outputs": [],
   "source": [
    "%%time\n",
    "#选择特征\n",
    "X_train_fs, X_test_fs, fs = mi_based_selector(X_train_unique, y_train, X_test_unique)"
   ]
  },
  {
   "cell_type": "code",
   "execution_count": null,
   "id": "9f9fec37",
   "metadata": {},
   "outputs": [],
   "source": [
    "#还原基因名\n",
    "select_name_index=fs.get_support(indices=True)\n",
    "select_name=[]\n",
    "for i in select_name_index:\n",
    "    select_name.append(select_name0[i])\n",
    "#print(select_name)"
   ]
  },
  {
   "cell_type": "code",
   "execution_count": null,
   "id": "4c063773",
   "metadata": {},
   "outputs": [],
   "source": [
    "X_train_fs=pd.DataFrame(X_train_fs)\n",
    "X_test_fs=pd.DataFrame(X_test_fs)\n",
    "X_train_fs.columns=select_name\n",
    "X_test_fs.columns=select_name\n",
    "print(X_train_fs.head())\n",
    "print(X_test_fs.head())"
   ]
  },
  {
   "cell_type": "code",
   "execution_count": null,
   "id": "a19c5711",
   "metadata": {},
   "outputs": [],
   "source": [
    "'''\n",
    "%%time\n",
    "from sklearn.feature_selection import SelectKBest, SelectPercentile\n",
    "sel = SelectKBest(mutual_info_classifier, k=20000).fit(X_train_unique, y_train)\n",
    "X_train_unique.columns[sel.get_support()]\n",
    "'''"
   ]
  },
  {
   "cell_type": "code",
   "execution_count": null,
   "id": "347f04f2",
   "metadata": {},
   "outputs": [],
   "source": [
    "#len(X_train_unique.columns[sel.get_support()])"
   ]
  },
  {
   "cell_type": "code",
   "execution_count": null,
   "id": "0f2dad38",
   "metadata": {},
   "outputs": [],
   "source": [
    "'''\n",
    "%%time\n",
    "X_train_mi = sel.transform(X_train_unique)\n",
    "X_test_mi = sel.transform(X_test_unique)\n",
    "X_train_mi.shape\n",
    "'''"
   ]
  },
  {
   "cell_type": "code",
   "execution_count": null,
   "id": "4a58f788",
   "metadata": {},
   "outputs": [],
   "source": [
    "%%time\n",
    "#用knn测试性能\n",
    "test_knn(X_train_fs, X_test_fs, y_train, y_test)"
   ]
  },
  {
   "cell_type": "code",
   "execution_count": null,
   "id": "5e88a69e",
   "metadata": {},
   "outputs": [],
   "source": [
    "%%time\n",
    "#测试未进行特征选择的性能\n",
    "test_knn(X_train, X_test, y_train, y_test)"
   ]
  },
  {
   "cell_type": "markdown",
   "id": "3d8782ec",
   "metadata": {},
   "source": [
    "## Saving features"
   ]
  },
  {
   "cell_type": "code",
   "execution_count": null,
   "id": "8351612b",
   "metadata": {},
   "outputs": [],
   "source": [
    "pan_gene_expre[select_name]"
   ]
  },
  {
   "cell_type": "code",
   "execution_count": null,
   "id": "385b4f79",
   "metadata": {},
   "outputs": [],
   "source": [
    "%%time\n",
    "#保存筛选完的基因表达数据\n",
    "with pd.HDFStore('data/Preprocessed_Data/pan_gene_filtered_11k.h5','w') as store:\n",
    "    store['pan_gene_filtered']=pan_gene_expre[select_name]"
   ]
  },
  {
   "cell_type": "markdown",
   "id": "93486490",
   "metadata": {},
   "source": [
    "## 接下来创建一个这20000个基因的肺癌样本表达数据文件"
   ]
  },
  {
   "cell_type": "code",
   "execution_count": null,
   "id": "82c8d1a3",
   "metadata": {},
   "outputs": [],
   "source": [
    "%%time\n",
    "#读取肺癌基因表达数据\n",
    "lung_gene_expre=pd.read_hdf('data/Preprocessed_Data/Lung.h5',key='gene_expression')"
   ]
  },
  {
   "cell_type": "code",
   "execution_count": null,
   "id": "96c85d57",
   "metadata": {},
   "outputs": [],
   "source": [
    "lung_gene_expre"
   ]
  },
  {
   "cell_type": "code",
   "execution_count": null,
   "id": "5b0f9731",
   "metadata": {},
   "outputs": [],
   "source": [
    "%%time\n",
    "#保存筛选完的基因表达数据\n",
    "with pd.HDFStore('data/Preprocessed_Data/lung_gene_filtered_10k.h5','w') as store:\n",
    "    store['lung_gene_filtered']=lung_gene_expre[select_name]"
   ]
  },
  {
   "cell_type": "code",
   "execution_count": null,
   "id": "031e36ae",
   "metadata": {},
   "outputs": [],
   "source": [
    "lung_gene_expre[select_name]"
   ]
  },
  {
   "cell_type": "code",
   "execution_count": null,
   "id": "a3608631",
   "metadata": {},
   "outputs": [],
   "source": []
  }
 ],
 "metadata": {
  "kernelspec": {
   "display_name": "Python 3",
   "language": "python",
   "name": "python3"
  },
  "language_info": {
   "codemirror_mode": {
    "name": "ipython",
    "version": 3
   },
   "file_extension": ".py",
   "mimetype": "text/x-python",
   "name": "python",
   "nbconvert_exporter": "python",
   "pygments_lexer": "ipython3",
   "version": "3.8.10"
  }
 },
 "nbformat": 4,
 "nbformat_minor": 5
}
