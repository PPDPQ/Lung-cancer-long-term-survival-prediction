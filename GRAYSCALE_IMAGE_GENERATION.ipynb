{
 "cells": [
  {
   "cell_type": "markdown",
   "id": "2af4fcb7",
   "metadata": {},
   "source": [
    "# Generating gray scale image based on KEGG BRITE"
   ]
  },
  {
   "cell_type": "markdown",
   "id": "89bd1afd",
   "metadata": {},
   "source": [
    "## PANCANCER"
   ]
  },
  {
   "cell_type": "code",
   "execution_count": null,
   "id": "59f97b7c",
   "metadata": {},
   "outputs": [],
   "source": [
    "import numpy as np\n",
    "import pandas as pd\n",
    "import warnings\n",
    "import math\n",
    "from PIL import Image"
   ]
  },
  {
   "cell_type": "code",
   "execution_count": null,
   "id": "44a89095",
   "metadata": {},
   "outputs": [],
   "source": [
    "pan_gene_map=pd.read_hdf('data/KEGG/KEGG_gene_map_log2tpm_MinMax_1k.h5',key='pan_gene_map')"
   ]
  },
  {
   "cell_type": "code",
   "execution_count": null,
   "id": "92863152",
   "metadata": {},
   "outputs": [],
   "source": [
    "pan_gene_map.head()"
   ]
  },
  {
   "cell_type": "code",
   "execution_count": null,
   "id": "6d1f8f2b",
   "metadata": {},
   "outputs": [],
   "source": [
    "#首先按每个基因的平均表达量给geneId排序\n",
    "pan_gene_map=pan_gene_map.sort_values(by=\"order\" , ascending=False)\n",
    "pan_gene_map=pan_gene_map.drop_duplicates(['geneId','Functional Annotation Subgroup','Functional Annotation'])"
   ]
  },
  {
   "cell_type": "code",
   "execution_count": null,
   "id": "c0fd2f71",
   "metadata": {},
   "outputs": [],
   "source": [
    "df=pan_gene_map.groupby(['Functional Annotation Subgroup','Functional Annotation']).apply(lambda x: x.sort_values(by='order', ascending=False))"
   ]
  },
  {
   "cell_type": "code",
   "execution_count": null,
   "id": "f8938508",
   "metadata": {},
   "outputs": [],
   "source": [
    "#sub_df=non_lung_tree_map[['geneId','Functional Annotation','Functional Annotation Subgroup']]\n",
    "#sub_df[non_lung_tree_map.iloc[:,7].name]=non_lung_tree_map.iloc[:,7]\n",
    "#sub_df['order']=non_lung_tree_map['order']"
   ]
  },
  {
   "cell_type": "code",
   "execution_count": null,
   "id": "0eee0571",
   "metadata": {},
   "outputs": [],
   "source": [
    "#sub_df.groupby(['Functional Annotation Subgroup','Functional Annotation']).apply(lambda x: x.sort_values(by=sub_df.iloc[:,3].name, ascending=False)).to_csv('data/分组测试_2.csv')"
   ]
  },
  {
   "cell_type": "code",
   "execution_count": null,
   "id": "7351752d",
   "metadata": {},
   "outputs": [],
   "source": [
    "#sub_df"
   ]
  },
  {
   "cell_type": "code",
   "execution_count": null,
   "id": "aef4f6d8",
   "metadata": {},
   "outputs": [],
   "source": [
    "'''\n",
    "arrays=[\n",
    "    np.array(sub_df['geneId'].to_list()),\n",
    "    np.array(sub_df['Functional Annotation'].to_list()),\n",
    "    np.array(sub_df['Functional Annotation Subgroup'].to_list()),\n",
    "]\n",
    "'''"
   ]
  },
  {
   "cell_type": "code",
   "execution_count": null,
   "id": "bf28d2fb",
   "metadata": {},
   "outputs": [],
   "source": [
    "#s = pd.DataFrame(sub_df.iloc[:,3].to_list(), index=arrays)"
   ]
  },
  {
   "cell_type": "code",
   "execution_count": null,
   "id": "faf0e335",
   "metadata": {},
   "outputs": [],
   "source": [
    "#s.index.names=['geneId','Functional Annotation','Functional Annotation Subgroup']"
   ]
  },
  {
   "cell_type": "code",
   "execution_count": null,
   "id": "aab6ef2a",
   "metadata": {},
   "outputs": [],
   "source": [
    "#s.sort_index(level=2)"
   ]
  },
  {
   "cell_type": "code",
   "execution_count": null,
   "id": "be9ccefa",
   "metadata": {},
   "outputs": [],
   "source": [
    "#s.index.get_level_values(2)"
   ]
  },
  {
   "cell_type": "code",
   "execution_count": null,
   "id": "5120cbe8",
   "metadata": {},
   "outputs": [],
   "source": [
    "df"
   ]
  },
  {
   "cell_type": "code",
   "execution_count": null,
   "id": "c13703e2",
   "metadata": {},
   "outputs": [],
   "source": [
    "df['Functional Annotation Subgroup'].value_counts()"
   ]
  },
  {
   "cell_type": "code",
   "execution_count": null,
   "id": "f8a058c3",
   "metadata": {},
   "outputs": [],
   "source": [
    "exp_values=df.iloc[:,7].values"
   ]
  },
  {
   "cell_type": "code",
   "execution_count": null,
   "id": "a57c20dd",
   "metadata": {},
   "outputs": [],
   "source": [
    "df.iloc[:,10542]"
   ]
  },
  {
   "cell_type": "code",
   "execution_count": null,
   "id": "ff72245f",
   "metadata": {},
   "outputs": [],
   "source": [
    "len(exp_values)"
   ]
  },
  {
   "cell_type": "code",
   "execution_count": null,
   "id": "be7dd158",
   "metadata": {},
   "outputs": [],
   "source": [
    "27*27-696"
   ]
  },
  {
   "cell_type": "code",
   "execution_count": null,
   "id": "512ec427",
   "metadata": {},
   "outputs": [],
   "source": [
    "grayscale_array=np.pad(exp_values,(0,33),'constant')"
   ]
  },
  {
   "cell_type": "code",
   "execution_count": null,
   "id": "33330b2c",
   "metadata": {},
   "outputs": [],
   "source": [
    "len(grayscale_array)"
   ]
  },
  {
   "cell_type": "code",
   "execution_count": null,
   "id": "7389d407",
   "metadata": {},
   "outputs": [],
   "source": [
    "grayscale_array=grayscale_array.reshape(27,27)"
   ]
  },
  {
   "cell_type": "code",
   "execution_count": null,
   "id": "74213fe5",
   "metadata": {},
   "outputs": [],
   "source": [
    "pd.DataFrame(grayscale_array).to_csv('data/测试6.csv')"
   ]
  },
  {
   "cell_type": "code",
   "execution_count": null,
   "id": "b87866ff",
   "metadata": {},
   "outputs": [],
   "source": [
    "#查看能否生成正常二维灰度图像\n",
    "img = Image.fromarray(np.uint8(grayscale_array*255), 'L')\n",
    "img.show()"
   ]
  },
  {
   "cell_type": "code",
   "execution_count": null,
   "id": "77549388",
   "metadata": {},
   "outputs": [],
   "source": [
    "np.uint8(grayscale_array*255)"
   ]
  },
  {
   "cell_type": "code",
   "execution_count": null,
   "id": "92bac06f",
   "metadata": {},
   "outputs": [],
   "source": [
    "%%time\n",
    "#循环生成并保存所有pan-cancer样本为灰度图\n",
    "for i in range(7,10542):\n",
    "    exp_values=df.iloc[:,i].values\n",
    "    grayscale_array=np.pad(exp_values,(0,33),'constant')\n",
    "    grayscale_array=grayscale_array.reshape(27,27)\n",
    "    np.save('images/genes_selected/log2tpm_MinMax/pan_with_function_1k/{}.npy'.format(df.iloc[:,i].name), grayscale_array)"
   ]
  },
  {
   "cell_type": "code",
   "execution_count": null,
   "id": "5a4bbc22",
   "metadata": {},
   "outputs": [],
   "source": [
    "df"
   ]
  },
  {
   "cell_type": "code",
   "execution_count": null,
   "id": "dcc329f0",
   "metadata": {},
   "outputs": [],
   "source": [
    "functional_annotation_subgroup=df['Functional Annotation Subgroup']"
   ]
  },
  {
   "cell_type": "code",
   "execution_count": null,
   "id": "80e9bdac",
   "metadata": {},
   "outputs": [],
   "source": [
    "functional_annotation_subgroup_array=np.array(functional_annotation_subgroup)"
   ]
  },
  {
   "cell_type": "code",
   "execution_count": null,
   "id": "1aaf99a1",
   "metadata": {},
   "outputs": [],
   "source": [
    "functional_annotation_subgroup_array=np.pad(functional_annotation_subgroup_array,(0,36),'constant')"
   ]
  },
  {
   "cell_type": "code",
   "execution_count": null,
   "id": "cb7a9422",
   "metadata": {},
   "outputs": [],
   "source": [
    "functional_annotation_subgroup_array=functional_annotation_subgroup_array.reshape(137,137)"
   ]
  },
  {
   "cell_type": "code",
   "execution_count": null,
   "id": "7434c111",
   "metadata": {},
   "outputs": [],
   "source": [
    "np.savetxt('data/functional_annotation_subgroup_array.csv',functional_annotation_subgroup_array,delimiter='\\t', fmt = '%s')"
   ]
  },
  {
   "cell_type": "markdown",
   "id": "cd5a0846",
   "metadata": {},
   "source": [
    "## lung部分"
   ]
  },
  {
   "cell_type": "code",
   "execution_count": null,
   "id": "dd0976a6",
   "metadata": {},
   "outputs": [],
   "source": [
    "lung_gene_map=pd.read_hdf('data/KEGG/KEGG_gene_map_log2tpm_MinMax_1k.h5',key='lung_gene_map')"
   ]
  },
  {
   "cell_type": "code",
   "execution_count": null,
   "id": "90bed0b9",
   "metadata": {},
   "outputs": [],
   "source": [
    "lung_gene_map"
   ]
  },
  {
   "cell_type": "code",
   "execution_count": null,
   "id": "1f0f6f1a",
   "metadata": {},
   "outputs": [],
   "source": [
    "#首先按每个基因的平均表达量给geneId排序\n",
    "lung_gene_map=lung_gene_map.sort_values(by=\"order\" , ascending=False)\n",
    "lung_gene_map=lung_gene_map.drop_duplicates(['geneId','Functional Annotation Subgroup','Functional Annotation'])"
   ]
  },
  {
   "cell_type": "code",
   "execution_count": null,
   "id": "900706f5",
   "metadata": {},
   "outputs": [],
   "source": [
    "lung_gene_map"
   ]
  },
  {
   "cell_type": "code",
   "execution_count": null,
   "id": "17c23f20",
   "metadata": {},
   "outputs": [],
   "source": [
    "df1=lung_gene_map.groupby(['Functional Annotation Subgroup','Functional Annotation']).apply(lambda x: x.sort_values(by='order', ascending=False))"
   ]
  },
  {
   "cell_type": "code",
   "execution_count": null,
   "id": "ac8f66cf",
   "metadata": {},
   "outputs": [],
   "source": [
    "df1"
   ]
  },
  {
   "cell_type": "code",
   "execution_count": null,
   "id": "0cae09bc",
   "metadata": {},
   "outputs": [],
   "source": [
    "lung_gene_map.isnull().any()"
   ]
  },
  {
   "cell_type": "code",
   "execution_count": null,
   "id": "d9a9e292",
   "metadata": {},
   "outputs": [],
   "source": [
    "df1.iloc[:,1129]"
   ]
  },
  {
   "cell_type": "code",
   "execution_count": null,
   "id": "aa2bd1f0",
   "metadata": {},
   "outputs": [],
   "source": [
    "exp_values=df1.iloc[:,1129].values\n",
    "grayscale_array=np.pad(exp_values,(0,33),'constant')\n",
    "grayscale_array=grayscale_array.reshape(27,27)\n",
    "np.save('images/genes_selected/log2tpm_MinMax/lung_with_function_1k/order_lung.npy'.format(df1.iloc[:,1129].name), grayscale_array)"
   ]
  },
  {
   "cell_type": "code",
   "execution_count": null,
   "id": "575759b8",
   "metadata": {},
   "outputs": [],
   "source": [
    "%%time\n",
    "#循环生成并保存所有lung样本为灰度图\n",
    "for i in range(7,1129):\n",
    "    exp_values=df1.iloc[:,i].values\n",
    "    grayscale_array=np.pad(exp_values,(0,33),'constant')\n",
    "    grayscale_array=grayscale_array.reshape(27,27)\n",
    "    np.save('images/genes_selected/log2tpm_MinMax/lung_with_function_1k/{}.npy'.format(df1.iloc[:,i].name), grayscale_array)"
   ]
  },
  {
   "cell_type": "code",
   "execution_count": null,
   "id": "a80986ac",
   "metadata": {},
   "outputs": [],
   "source": []
  }
 ],
 "metadata": {
  "kernelspec": {
   "display_name": "Python 3",
   "language": "python",
   "name": "python3"
  },
  "language_info": {
   "codemirror_mode": {
    "name": "ipython",
    "version": 3
   },
   "file_extension": ".py",
   "mimetype": "text/x-python",
   "name": "python",
   "nbconvert_exporter": "python",
   "pygments_lexer": "ipython3",
   "version": "3.8.10"
  }
 },
 "nbformat": 4,
 "nbformat_minor": 5
}
