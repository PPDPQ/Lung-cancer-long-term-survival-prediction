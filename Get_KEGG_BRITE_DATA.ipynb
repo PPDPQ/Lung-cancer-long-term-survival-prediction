{
 "cells": [
  {
   "cell_type": "code",
   "execution_count": null,
   "id": "76707439",
   "metadata": {},
   "outputs": [],
   "source": [
    "import pandas as pd"
   ]
  },
  {
   "cell_type": "code",
   "execution_count": null,
   "id": "bb5158fb",
   "metadata": {},
   "outputs": [],
   "source": [
    "import requests\n",
    "\n",
    "url = 'http://rest.kegg.jp/list/hsa'\n",
    "hsa_request = requests.get(url, allow_redirects=True)\n",
    "open('data/KEGG/KEGG_gene_hsa.csv', 'wb').write(hsa_request.content)\n",
    "del hsa_request"
   ]
  },
  {
   "cell_type": "markdown",
   "id": "24b7aae9",
   "metadata": {},
   "source": [
    "kegg gene"
   ]
  },
  {
   "cell_type": "code",
   "execution_count": null,
   "id": "b1f00caa",
   "metadata": {},
   "outputs": [],
   "source": [
    "pd.read_csv('data/KEGG/KEGG_gene_hsa.csv', sep='\\t'  , engine='python', header=None)"
   ]
  },
  {
   "cell_type": "markdown",
   "id": "4c3ca9bc",
   "metadata": {},
   "source": [
    "kegg brite"
   ]
  },
  {
   "cell_type": "code",
   "execution_count": null,
   "id": "8304950e",
   "metadata": {},
   "outputs": [],
   "source": [
    "%%time\n",
    "\n",
    "import requests\n",
    "\n",
    "url = 'http://rest.kegg.jp/get/br:br08902'\n",
    "brite_request = requests.get(url, allow_redirects=True)\n",
    "open('data/KEGG/KEGG_brite_groups.txt', 'wb').write(brite_request.content)\n",
    "del brite_request"
   ]
  },
  {
   "cell_type": "code",
   "execution_count": null,
   "id": "27a52d75",
   "metadata": {},
   "outputs": [],
   "source": [
    "brite = pd.DataFrame(columns=['Functional Annotation Group','Functional Annotation Subgroup','keggBriteId','Functional Annotation'])\n",
    "with open('data/KEGG/KEGG_brite_groups.txt', 'r') as f:\n",
    "    i = 0\n",
    "    j = 0\n",
    "    lines = f.readlines()\n",
    "    n_lines = len(lines)\n",
    "    while(i<n_lines):\n",
    "        if(lines[i][0:1]=='A'):\n",
    "            A = lines[i][1:-1]\n",
    "            i+=1 # next line\n",
    "            while(i<n_lines and lines[i][0:1]!='A'):\n",
    "                if(lines[i].split('  ')[0]=='B'):\n",
    "                    B = lines[i].split('  ')[1][:-1]\n",
    "                    i += 1 # next line\n",
    "                    while(i<n_lines and lines[i].split('    ')[0]=='C'):\n",
    "                        C = lines[i].split('    ')[1][:-1]\n",
    "                        brite.loc[j] = [A, B, C.split(\"  \")[0][3:], C.split(\"  \")[1]]\n",
    "                        j+=1\n",
    "                        i += 1 # next line \n",
    "                else: i+=1\n",
    "        else: i+=1 # next line"
   ]
  },
  {
   "cell_type": "code",
   "execution_count": null,
   "id": "066e3afe",
   "metadata": {},
   "outputs": [],
   "source": [
    "brite.to_csv('data/KEGG/KEGG_brite.csv')"
   ]
  },
  {
   "cell_type": "code",
   "execution_count": null,
   "id": "9db87bb8",
   "metadata": {},
   "outputs": [],
   "source": [
    "pd.read_csv('data/KEGG/KEGG_brite.csv')"
   ]
  },
  {
   "cell_type": "markdown",
   "id": "c1c8dc60",
   "metadata": {},
   "source": [
    "# KEGG hsa-brite"
   ]
  },
  {
   "cell_type": "code",
   "execution_count": null,
   "id": "ebe92ed7",
   "metadata": {},
   "outputs": [],
   "source": [
    "%%time\n",
    "\n",
    "import requests\n",
    "\n",
    "url = 'http://rest.kegg.jp/link/hsa/brite'\n",
    "hsa_brite_request = requests.get(url, allow_redirects=True)\n",
    "open('data/KEGG_hsa_brite.csv', 'wb').write(hsa_brite_request.content)\n",
    "del hsa_brite_request"
   ]
  },
  {
   "cell_type": "code",
   "execution_count": null,
   "id": "eecb944b",
   "metadata": {},
   "outputs": [],
   "source": [
    "pd.read_csv('data/KEGG/KEGG_hsa_brite.csv', sep='\\t'  , engine='python', header=None)"
   ]
  },
  {
   "cell_type": "code",
   "execution_count": null,
   "id": "2dba7cf8",
   "metadata": {},
   "outputs": [],
   "source": []
  },
  {
   "cell_type": "code",
   "execution_count": null,
   "id": "8c89e76d",
   "metadata": {},
   "outputs": [],
   "source": [
    "\n"
   ]
  },
  {
   "cell_type": "code",
   "execution_count": null,
   "id": "15e522f0",
   "metadata": {},
   "outputs": [],
   "source": []
  }
 ],
 "metadata": {
  "kernelspec": {
   "display_name": "Python 3",
   "language": "python",
   "name": "python3"
  },
  "language_info": {
   "codemirror_mode": {
    "name": "ipython",
    "version": 3
   },
   "file_extension": ".py",
   "mimetype": "text/x-python",
   "name": "python",
   "nbconvert_exporter": "python",
   "pygments_lexer": "ipython3",
   "version": "3.8.10"
  }
 },
 "nbformat": 4,
 "nbformat_minor": 5
}
