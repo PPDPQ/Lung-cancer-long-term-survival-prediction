{
 "cells": [
  {
   "cell_type": "code",
   "execution_count": null,
   "id": "d7c34497",
   "metadata": {},
   "outputs": [],
   "source": [
    "%%time\n",
    "import pandas as pd\n",
    "import numpy as np\n",
    "pan_gene_expre=pd.read_table('data/PanCancer/tcga_RSEM_gene_tpm',sep='\\t',index_col=0).sort_index(axis='rows').sort_index(axis='columns')"
   ]
  },
  {
   "cell_type": "code",
   "execution_count": null,
   "id": "188977e0",
   "metadata": {},
   "outputs": [],
   "source": [
    "pan_gene_expre"
   ]
  },
  {
   "cell_type": "code",
   "execution_count": null,
   "id": "00367699",
   "metadata": {},
   "outputs": [],
   "source": [
    "print('number of genes is {},number of samples is {}.'.format(*pan_gene_expre.shape))"
   ]
  },
  {
   "cell_type": "code",
   "execution_count": null,
   "id": "f4ca59ff",
   "metadata": {},
   "outputs": [],
   "source": [
    "pan_gene_expre.isnull().values.any()#check if there is any NA factor in this dataframe"
   ]
  },
  {
   "cell_type": "code",
   "execution_count": null,
   "id": "e420ee71",
   "metadata": {},
   "outputs": [],
   "source": [
    "pan_sample_types=pd.read_table('data/PanCancer/TCGA_phenotype_denseDataOnlyDownload.tsv',index_col=0).sort_index(axis='rows')"
   ]
  },
  {
   "cell_type": "code",
   "execution_count": null,
   "id": "350f9e2b",
   "metadata": {},
   "outputs": [],
   "source": [
    "pan_sample_types"
   ]
  },
  {
   "cell_type": "code",
   "execution_count": null,
   "id": "f1791e90",
   "metadata": {},
   "outputs": [],
   "source": [
    "pan_sample_types.index.duplicated().any()"
   ]
  },
  {
   "cell_type": "code",
   "execution_count": null,
   "id": "90544d8f",
   "metadata": {},
   "outputs": [],
   "source": [
    "pan_sample_types.index"
   ]
  },
  {
   "cell_type": "code",
   "execution_count": null,
   "id": "83bdab95",
   "metadata": {},
   "outputs": [],
   "source": [
    "pan_gene_expre.index"
   ]
  },
  {
   "cell_type": "code",
   "execution_count": null,
   "id": "56829661",
   "metadata": {},
   "outputs": [],
   "source": [
    "sample_coincident=pan_gene_expre.columns.intersection(pan_sample_types.index)#select samples in the pan_gene_expre that are coincident with pan_sample_types\n",
    "sample_coincident"
   ]
  },
  {
   "cell_type": "code",
   "execution_count": null,
   "id": "ece15214",
   "metadata": {},
   "outputs": [],
   "source": [
    "pan_gene_expre.columns.difference(pan_sample_types.index)\n",
    "#there is one sample that is not exist in the sample types table"
   ]
  },
  {
   "cell_type": "code",
   "execution_count": null,
   "id": "d378e5c2",
   "metadata": {},
   "outputs": [],
   "source": [
    "pan_sample_types.shape\n",
    "pan_sample_types=pan_sample_types.loc[sample_coincident]\n",
    "pan_sample_types.shape\n",
    "#只留下了在两个数据集中都存在的样本的对应数据"
   ]
  },
  {
   "cell_type": "code",
   "execution_count": null,
   "id": "6950a7fe",
   "metadata": {},
   "outputs": [],
   "source": [
    "pan_sample_types.isnull().any()"
   ]
  },
  {
   "cell_type": "code",
   "execution_count": null,
   "id": "d8dd6d91",
   "metadata": {},
   "outputs": [],
   "source": [
    "#get the counts of the sample types\n",
    "pan_sample_types.sample_type.value_counts(normalize=False,ascending=True)"
   ]
  },
  {
   "cell_type": "code",
   "execution_count": null,
   "id": "f8433f81",
   "metadata": {},
   "outputs": [],
   "source": [
    "pan_sample_types['pathology_status']=pan_sample_types.apply(lambda row: 'Normal' if row['sample_type']=='Solid Tissue Normal' else 'Tumor',axis=1)"
   ]
  },
  {
   "cell_type": "code",
   "execution_count": null,
   "id": "2a59c230",
   "metadata": {},
   "outputs": [],
   "source": [
    "pan_sample_types.pathology_status.value_counts(normalize=False,ascending=True)"
   ]
  },
  {
   "cell_type": "code",
   "execution_count": null,
   "id": "edf902e0",
   "metadata": {},
   "outputs": [],
   "source": [
    "pan_clinical=pd.read_table('data/PanCancer/Survival_SupplementalTable_S1_20171025_xena_sp',index_col=0).sort_index(axis='rows')"
   ]
  },
  {
   "cell_type": "code",
   "execution_count": null,
   "id": "76577604",
   "metadata": {},
   "outputs": [],
   "source": [
    "pan_clinical"
   ]
  },
  {
   "cell_type": "code",
   "execution_count": null,
   "id": "279dd61b",
   "metadata": {},
   "outputs": [],
   "source": [
    "#check if there are same IDs in clinical data\n",
    "pan_clinical.index.duplicated().any()"
   ]
  },
  {
   "cell_type": "code",
   "execution_count": null,
   "id": "cfd49dd8",
   "metadata": {},
   "outputs": [],
   "source": [
    "#we select the intersection of the fore-mentioned three datasets\n",
    "gene_types_clinical_coincident=pan_gene_expre.columns.intersection(pan_clinical.index)"
   ]
  },
  {
   "cell_type": "code",
   "execution_count": null,
   "id": "7df6a0e1",
   "metadata": {},
   "outputs": [],
   "source": [
    "len(gene_types_clinical_coincident)"
   ]
  },
  {
   "cell_type": "code",
   "execution_count": null,
   "id": "ff929733",
   "metadata": {},
   "outputs": [],
   "source": [
    "pan_clinical.index"
   ]
  },
  {
   "cell_type": "code",
   "execution_count": null,
   "id": "7cdf6af5",
   "metadata": {},
   "outputs": [],
   "source": [
    "pan_clinical=pan_clinical.loc[gene_types_clinical_coincident]"
   ]
  },
  {
   "cell_type": "code",
   "execution_count": null,
   "id": "c3ade0f0",
   "metadata": {},
   "outputs": [],
   "source": [
    "pan_clinical.shape"
   ]
  },
  {
   "cell_type": "code",
   "execution_count": null,
   "id": "01d8f4ef",
   "metadata": {},
   "outputs": [],
   "source": [
    "variable='OS'\n",
    "print('number of samples with Overall Survival:',sum(pan_clinical[variable].value_counts(normalize=False)))\n",
    "pan_clinical[variable].value_counts(normalize=True)"
   ]
  },
  {
   "cell_type": "code",
   "execution_count": null,
   "id": "a5e81732",
   "metadata": {},
   "outputs": [],
   "source": [
    "variable='PFI'\n",
    "print('number of samples with Progression-free interval:',sum(pan_clinical[variable].value_counts(normalize=False)))\n",
    "pan_clinical[variable].value_counts(normalize=True)"
   ]
  },
  {
   "cell_type": "code",
   "execution_count": null,
   "id": "8eb02631",
   "metadata": {},
   "outputs": [],
   "source": [
    "variable='DSS'\n",
    "print('number of samples with Disease-specific Survival:',sum(pan_clinical[variable].value_counts(normalize=False)))\n",
    "pan_clinical[variable].value_counts(normalize=True)"
   ]
  },
  {
   "cell_type": "code",
   "execution_count": null,
   "id": "21707dde",
   "metadata": {},
   "outputs": [],
   "source": [
    "%%time\n",
    "with pd.HDFStore('data/Preprocessed_Data/PanCancer.h5','w') as store:\n",
    "    store['gene_expression']=pan_gene_expre.transpose()\n",
    "    store['sample_type']=pan_sample_types\n",
    "    store['clinical']=pan_clinical"
   ]
  },
  {
   "cell_type": "code",
   "execution_count": null,
   "id": "bd549c5c",
   "metadata": {},
   "outputs": [],
   "source": []
  }
 ],
 "metadata": {
  "kernelspec": {
   "display_name": "Python 3",
   "language": "python",
   "name": "python3"
  },
  "language_info": {
   "codemirror_mode": {
    "name": "ipython",
    "version": 3
   },
   "file_extension": ".py",
   "mimetype": "text/x-python",
   "name": "python",
   "nbconvert_exporter": "python",
   "pygments_lexer": "ipython3",
   "version": "3.8.10"
  }
 },
 "nbformat": 4,
 "nbformat_minor": 5
}
