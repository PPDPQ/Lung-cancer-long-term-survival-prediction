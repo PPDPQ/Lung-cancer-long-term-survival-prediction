{
 "cells": [
  {
   "cell_type": "code",
   "execution_count": null,
   "id": "2f1ea595",
   "metadata": {},
   "outputs": [],
   "source": [
    "import pandas as pd\n",
    "import numpy as np\n",
    "import itertools\n",
    "from sklearn import preprocessing"
   ]
  },
  {
   "cell_type": "code",
   "execution_count": null,
   "id": "ff6cfa71",
   "metadata": {},
   "outputs": [],
   "source": [
    "%%time\n",
    "#读取kegg数据\n",
    "hsa = pd.read_csv('data/KEGG/KEGG_gene_hsa.csv', sep='\\t', \n",
    "                  engine='python', header=None, index_col=None, names=['keggId', 'geneName'])\n",
    "hsa_brite = pd.read_csv('data/KEGG/KEGG_hsa_brite.csv', \n",
    "                        sep='\\t', engine='python', header=None, index_col=None, names=['keggBriteId', 'keggId'])\n",
    "brite = pd.read_csv('data/KEGG/KEGG_brite.csv', \n",
    "                    engine='python', header=0, index_col=0)"
   ]
  },
  {
   "cell_type": "code",
   "execution_count": null,
   "id": "fe52c67b",
   "metadata": {},
   "outputs": [],
   "source": [
    "%%time\n",
    "#读取基因表达数据\n",
    "pan_gene_filtered = pd.read_hdf(\"data/Preprocessed_Data/pan_gene_filtered_1k.h5\", \n",
    "                      key = \"pan_gene_filtered\")\n",
    "lung_gene_filtered = pd.read_hdf(\"data/Preprocessed_Data/lung_gene_filtered_1k.h5\", \n",
    "                      key = \"lung_gene_filtered\")"
   ]
  },
  {
   "cell_type": "code",
   "execution_count": null,
   "id": "2d44691e",
   "metadata": {},
   "outputs": [],
   "source": [
    "#还原tpm值\n",
    "def tpm_recover(df):\n",
    "    tpm=2**df-0.001\n",
    "    return tpm"
   ]
  },
  {
   "cell_type": "code",
   "execution_count": null,
   "id": "937143bf",
   "metadata": {},
   "outputs": [],
   "source": [
    "#替换负值\n",
    "def replace_negative(df):\n",
    "    # checking the element is < 0\n",
    "    df[df < 0] = 0"
   ]
  },
  {
   "cell_type": "code",
   "execution_count": null,
   "id": "b233f202",
   "metadata": {},
   "outputs": [],
   "source": [
    "%%time\n",
    "non_lung_gene_filtered=tpm_recover(pan_gene_filtered)\n",
    "lung_gene_filtered=tpm_recover(lung_gene_filtered)"
   ]
  },
  {
   "cell_type": "code",
   "execution_count": null,
   "id": "0d527f8a",
   "metadata": {},
   "outputs": [],
   "source": [
    "%%time\n",
    "replace_negative(non_lung_gene_filtered)\n",
    "replace_negative(lung_gene_filtered)"
   ]
  },
  {
   "cell_type": "code",
   "execution_count": null,
   "id": "0f7e3cae",
   "metadata": {},
   "outputs": [],
   "source": [
    "for i in list(pan_gene_filtered.columns):\n",
    "   # 获取各个指标的最大值和最小值\n",
    "    Max = np.max(pan_gene_filtered[i])\n",
    "    Min = np.min(pan_gene_filtered[i])\n",
    "    pan_gene_filtered[i] = (pan_gene_filtered[i] - Min)/(Max - Min)"
   ]
  },
  {
   "cell_type": "code",
   "execution_count": null,
   "id": "22c280b1",
   "metadata": {},
   "outputs": [],
   "source": [
    "pan_gene_filtered=pan_gene_filtered.fillna(0)"
   ]
  },
  {
   "cell_type": "code",
   "execution_count": null,
   "id": "436a5368",
   "metadata": {},
   "outputs": [],
   "source": [
    "for i in list(lung_gene_filtered.columns):\n",
    "   # 获取各个指标的最大值和最小值\n",
    "    Max = np.max(lung_gene_filtered[i])\n",
    "    Min = np.min(lung_gene_filtered[i])\n",
    "    lung_gene_filtered[i] = (lung_gene_filtered[i] - Min)/(Max - Min)"
   ]
  },
  {
   "cell_type": "code",
   "execution_count": null,
   "id": "dfeb6918",
   "metadata": {},
   "outputs": [],
   "source": [
    "lung_gene_filtered"
   ]
  },
  {
   "cell_type": "code",
   "execution_count": null,
   "id": "8c5d9d18",
   "metadata": {},
   "outputs": [],
   "source": [
    "lung_gene_filtered=lung_gene_filtered.fillna(0)"
   ]
  },
  {
   "cell_type": "code",
   "execution_count": null,
   "id": "4b0b5842",
   "metadata": {},
   "outputs": [],
   "source": [
    "%%time\n",
    "pan_clinical=pd.read_hdf('data/Preprocessed_Data/PanCancer.h5',key='clinical')\n",
    "lung_clinical=pd.read_hdf('data/Preprocessed_Data/Lung.h5',key='clinical')"
   ]
  },
  {
   "cell_type": "code",
   "execution_count": null,
   "id": "229bc2ff",
   "metadata": {},
   "outputs": [],
   "source": [
    "pan_clinical"
   ]
  },
  {
   "cell_type": "code",
   "execution_count": null,
   "id": "feb8f6c1",
   "metadata": {},
   "outputs": [],
   "source": [
    "len(pan_clinical.index.intersection(list(map(lambda x: x.split('_')[0], pan_gene_filtered.index))))"
   ]
  },
  {
   "cell_type": "code",
   "execution_count": null,
   "id": "f6d7665e",
   "metadata": {},
   "outputs": [],
   "source": [
    "lung_clinical.shape"
   ]
  },
  {
   "cell_type": "code",
   "execution_count": null,
   "id": "361d23ae",
   "metadata": {},
   "outputs": [],
   "source": [
    "len(lung_clinical.index.intersection(list(map(lambda x: x.split('_')[0], lung_gene_filtered.index))))"
   ]
  },
  {
   "cell_type": "code",
   "execution_count": null,
   "id": "291f2ca8",
   "metadata": {},
   "outputs": [],
   "source": [
    "ens_ids=lung_gene_filtered.columns"
   ]
  },
  {
   "cell_type": "code",
   "execution_count": null,
   "id": "a35e03c1",
   "metadata": {},
   "outputs": [],
   "source": [
    "print(\"The number of genes: {}\".format(len(ens_ids)))"
   ]
  },
  {
   "cell_type": "code",
   "execution_count": null,
   "id": "d024d71f",
   "metadata": {},
   "outputs": [],
   "source": [
    "print(\"Total number of samples (patients): {}\".format(pan_gene_filtered.shape[0]))"
   ]
  },
  {
   "cell_type": "code",
   "execution_count": null,
   "id": "7d0d109b",
   "metadata": {},
   "outputs": [],
   "source": [
    "%%time\n",
    "#导入ensembol-hugo字典\n",
    "hugo_to_ens = pd.read_csv('data/PanCancer/hugo_to_ens.tsv', \n",
    "                       sep='\\t', engine='python', index_col=None)"
   ]
  },
  {
   "cell_type": "code",
   "execution_count": null,
   "id": "bf9af213",
   "metadata": {},
   "outputs": [],
   "source": [
    "%%time\n",
    "#删除多对一的情况\n",
    "print(hugo_to_ens.shape)\n",
    "hugo_to_ens=hugo_to_ens[~hugo_to_ens.duplicated(subset=['geneId','geneName'])]\n",
    "print(hugo_to_ens.shape)"
   ]
  },
  {
   "cell_type": "code",
   "execution_count": null,
   "id": "2f8c84df",
   "metadata": {},
   "outputs": [],
   "source": [
    "#刚好我们筛选的20k个基因都包含在剩余的不含多对一情况的65670个基因中（剩下的65670个ens可以覆盖基因表达数据的两万个ens）\n",
    "hugo_to_ens = hugo_to_ens[hugo_to_ens['geneId'].isin(ens_ids)]\n",
    "hugo_to_ens.shape"
   ]
  },
  {
   "cell_type": "code",
   "execution_count": null,
   "id": "6cf7365e",
   "metadata": {},
   "outputs": [],
   "source": [
    "gene_mapping = hugo_to_ens[['geneId', 'geneName']]\n",
    "gene_mapping.head()"
   ]
  },
  {
   "cell_type": "code",
   "execution_count": null,
   "id": "643b92e0",
   "metadata": {},
   "outputs": [],
   "source": [
    "sum(gene_mapping.duplicated())"
   ]
  },
  {
   "cell_type": "code",
   "execution_count": null,
   "id": "9e5991d7",
   "metadata": {},
   "outputs": [],
   "source": [
    "#查看有多少基因在Hugo和基因表达数据里共存\n",
    "len(set(gene_mapping['geneName']))"
   ]
  },
  {
   "cell_type": "code",
   "execution_count": null,
   "id": "af26bb74",
   "metadata": {},
   "outputs": [],
   "source": [
    "#查看基因表达数据中的ens与对照字典中的ens有多少重合\n",
    "len(set(gene_mapping['geneId']))"
   ]
  },
  {
   "cell_type": "code",
   "execution_count": null,
   "id": "c6675169",
   "metadata": {},
   "outputs": [],
   "source": [
    "sum(map(lambda x: ',' in x or ';' in x, gene_mapping.geneName))"
   ]
  },
  {
   "cell_type": "code",
   "execution_count": null,
   "id": "8cf4f0fd",
   "metadata": {},
   "outputs": [],
   "source": [
    "%%time\n",
    "hsa_hugo = pd.DataFrame(data=list(itertools.chain.from_iterable(hsa.apply(\n",
    "    lambda x: list(zip(itertools.repeat(x[0]), x[1].replace(';', ',').split(', '))), axis=1))), \n",
    "                        columns=['keggId', 'geneName'])"
   ]
  },
  {
   "cell_type": "code",
   "execution_count": null,
   "id": "2cdd483e",
   "metadata": {},
   "outputs": [],
   "source": [
    "print(hsa_hugo.shape)\n",
    "hsa_hugo.head()"
   ]
  },
  {
   "cell_type": "code",
   "execution_count": null,
   "id": "2fbab993",
   "metadata": {},
   "outputs": [],
   "source": [
    "sum(hsa_hugo.duplicated())"
   ]
  },
  {
   "cell_type": "code",
   "execution_count": null,
   "id": "f71acf07",
   "metadata": {},
   "outputs": [],
   "source": [
    "hsa_hugo = hsa_hugo[~hsa_hugo.duplicated()]"
   ]
  },
  {
   "cell_type": "code",
   "execution_count": null,
   "id": "7414e370",
   "metadata": {},
   "outputs": [],
   "source": [
    "sum(hsa_hugo.duplicated())"
   ]
  },
  {
   "cell_type": "code",
   "execution_count": null,
   "id": "6d30ef35",
   "metadata": {},
   "outputs": [],
   "source": [
    "print(hsa_hugo.shape)"
   ]
  },
  {
   "cell_type": "code",
   "execution_count": null,
   "id": "e4ca71a6",
   "metadata": {},
   "outputs": [],
   "source": [
    "len(set(gene_mapping['geneName']))"
   ]
  },
  {
   "cell_type": "code",
   "execution_count": null,
   "id": "2a81f616",
   "metadata": {},
   "outputs": [],
   "source": [
    "len(set(gene_mapping['geneId']))"
   ]
  },
  {
   "cell_type": "code",
   "execution_count": null,
   "id": "ad64ff9f",
   "metadata": {},
   "outputs": [],
   "source": [
    "gene_mapping = pd.merge(gene_mapping, hsa_hugo, on='geneName')"
   ]
  },
  {
   "cell_type": "code",
   "execution_count": null,
   "id": "f707dc3c",
   "metadata": {},
   "outputs": [],
   "source": [
    "len(set(gene_mapping['geneName']))"
   ]
  },
  {
   "cell_type": "code",
   "execution_count": null,
   "id": "9752e48c",
   "metadata": {},
   "outputs": [],
   "source": [
    "len(set(gene_mapping['geneId']))"
   ]
  },
  {
   "cell_type": "markdown",
   "id": "b994af65",
   "metadata": {},
   "source": [
    "## KEGG gene id to KEGG BRITE id"
   ]
  },
  {
   "cell_type": "code",
   "execution_count": null,
   "id": "4b0f8165",
   "metadata": {},
   "outputs": [],
   "source": [
    "gene_mapping = pd.merge(gene_mapping, hsa_brite, on='keggId')"
   ]
  },
  {
   "cell_type": "code",
   "execution_count": null,
   "id": "0d1ef19c",
   "metadata": {},
   "outputs": [],
   "source": [
    "gene_mapping.head()"
   ]
  },
  {
   "cell_type": "code",
   "execution_count": null,
   "id": "ad5529d2",
   "metadata": {},
   "outputs": [],
   "source": [
    "sum(gene_mapping.duplicated())"
   ]
  },
  {
   "cell_type": "code",
   "execution_count": null,
   "id": "0b557caf",
   "metadata": {},
   "outputs": [],
   "source": [
    "len(set(gene_mapping['geneName']))"
   ]
  },
  {
   "cell_type": "code",
   "execution_count": null,
   "id": "2f846734",
   "metadata": {},
   "outputs": [],
   "source": [
    "len(set(gene_mapping['geneId']))"
   ]
  },
  {
   "cell_type": "code",
   "execution_count": null,
   "id": "69fd3b5b",
   "metadata": {},
   "outputs": [],
   "source": [
    "id_len = len(gene_mapping['keggBriteId'][0])\n",
    "all(gene_mapping['keggBriteId'].apply(lambda x: len(x) == id_len))"
   ]
  },
  {
   "cell_type": "code",
   "execution_count": null,
   "id": "2c68b5dd",
   "metadata": {},
   "outputs": [],
   "source": [
    "brite_id_len = len(brite['keggBriteId'][0])\n",
    "all(brite['keggBriteId'].apply(lambda x: len(x.split('_')[0]) == brite_id_len))"
   ]
  },
  {
   "cell_type": "code",
   "execution_count": null,
   "id": "1fe22b7d",
   "metadata": {},
   "outputs": [],
   "source": [
    "gene_mapping['keggBriteId'] = gene_mapping['keggBriteId'].apply(lambda x: x[-4:])"
   ]
  },
  {
   "cell_type": "code",
   "execution_count": null,
   "id": "42864d08",
   "metadata": {},
   "outputs": [],
   "source": [
    "hsa_brite['keggBriteId'].apply(lambda x: x[-4:]).drop_duplicates()"
   ]
  },
  {
   "cell_type": "code",
   "execution_count": null,
   "id": "340a256d",
   "metadata": {},
   "outputs": [],
   "source": [
    "gene_mapping = pd.merge(gene_mapping, brite, on='keggBriteId')"
   ]
  },
  {
   "cell_type": "code",
   "execution_count": null,
   "id": "e8adcf4f",
   "metadata": {},
   "outputs": [],
   "source": [
    "sum(gene_mapping.duplicated())"
   ]
  },
  {
   "cell_type": "code",
   "execution_count": null,
   "id": "4a81ea65",
   "metadata": {},
   "outputs": [],
   "source": [
    "len(set(gene_mapping['geneName']))"
   ]
  },
  {
   "cell_type": "code",
   "execution_count": null,
   "id": "97fc5d5e",
   "metadata": {},
   "outputs": [],
   "source": [
    "len(set(gene_mapping['geneId']))\n"
   ]
  },
  {
   "cell_type": "code",
   "execution_count": null,
   "id": "1006e0b8",
   "metadata": {},
   "outputs": [],
   "source": [
    "gene_mapping.head()"
   ]
  },
  {
   "cell_type": "code",
   "execution_count": null,
   "id": "49989ea3",
   "metadata": {},
   "outputs": [],
   "source": [
    "gene_mapping['Functional Annotation Group'].value_counts()"
   ]
  },
  {
   "cell_type": "code",
   "execution_count": null,
   "id": "fea98fde",
   "metadata": {},
   "outputs": [],
   "source": [
    "gene_mapping['Functional Annotation Subgroup'].value_counts()"
   ]
  },
  {
   "cell_type": "code",
   "execution_count": null,
   "id": "64671956",
   "metadata": {},
   "outputs": [],
   "source": [
    "gene_mapping['Functional Annotation'].value_counts()"
   ]
  },
  {
   "cell_type": "code",
   "execution_count": null,
   "id": "721898b8",
   "metadata": {},
   "outputs": [],
   "source": [
    "%%time\n",
    "#泛癌的treemap数据构建\n",
    "pan_gene_map = pan_gene_filtered.T\n",
    "pan_gene_map['geneId'] = pan_gene_map.index\n",
    "#pan_gene_map['tamPixel'] = np.ones(pan_gene_map.shape[0])\n",
    "pan_gene_map['order'] = pan_gene_filtered.mean(axis=0) # sort genes by mean expression values \n",
    "pan_gene_map = pd.merge(gene_mapping, pan_gene_map, on='geneId')"
   ]
  },
  {
   "cell_type": "code",
   "execution_count": null,
   "id": "fe0632e4",
   "metadata": {},
   "outputs": [],
   "source": [
    "pan_gene_map.head()"
   ]
  },
  {
   "cell_type": "code",
   "execution_count": null,
   "id": "c8568085",
   "metadata": {},
   "outputs": [],
   "source": [
    "%%time\n",
    "# Sanity check\n",
    "sum(pan_gene_map.duplicated())"
   ]
  },
  {
   "cell_type": "code",
   "execution_count": null,
   "id": "ddaac67c",
   "metadata": {},
   "outputs": [],
   "source": [
    "len(set(pan_gene_map['geneId']))"
   ]
  },
  {
   "cell_type": "code",
   "execution_count": null,
   "id": "40363d3f",
   "metadata": {},
   "outputs": [],
   "source": [
    "pan_gene_map.shape"
   ]
  },
  {
   "cell_type": "code",
   "execution_count": null,
   "id": "6218ac22",
   "metadata": {},
   "outputs": [],
   "source": [
    "%%time\n",
    "#non_lung的treemap数据构建\n",
    "non_lung_tree_map =non_lung_gene_filtered.T\n",
    "non_lung_tree_map['geneId'] = non_lung_tree_map.index\n",
    "#non_lung_tree_map['tamPixel'] = np.ones(non_lung_tree_map.shape[0])\n",
    "non_lung_tree_map['order'] = non_lung_gene_filtered.mean(axis=0) \n",
    "non_lung_tree_map = pd.merge(gene_mapping, non_lung_tree_map, on='geneId')"
   ]
  },
  {
   "cell_type": "code",
   "execution_count": null,
   "id": "8cf94bc6",
   "metadata": {},
   "outputs": [],
   "source": [
    "non_lung_tree_map.head()"
   ]
  },
  {
   "cell_type": "code",
   "execution_count": null,
   "id": "38edb470",
   "metadata": {},
   "outputs": [],
   "source": [
    "%%time\n",
    "# Sanity check\n",
    "sum(non_lung_tree_map.duplicated())"
   ]
  },
  {
   "cell_type": "code",
   "execution_count": null,
   "id": "5b297659",
   "metadata": {},
   "outputs": [],
   "source": [
    "len(set(non_lung_tree_map['geneId']))"
   ]
  },
  {
   "cell_type": "code",
   "execution_count": null,
   "id": "62bb208c",
   "metadata": {},
   "outputs": [],
   "source": [
    "non_lung_tree_map.shape"
   ]
  },
  {
   "cell_type": "code",
   "execution_count": null,
   "id": "de2e6191",
   "metadata": {},
   "outputs": [],
   "source": [
    "%%time\n",
    "#肺癌的treemap数据构建\n",
    "lung_gene_map =lung_gene_filtered.T\n",
    "lung_gene_map['geneId'] = lung_gene_map.index\n",
    "#lung_gene_map['tamPixel'] = np.ones(lung_gene_map.shape[0])\n",
    "lung_gene_map['order'] = lung_gene_filtered.mean(axis=0) \n",
    "lung_gene_map = pd.merge(gene_mapping, lung_gene_map, on='geneId')"
   ]
  },
  {
   "cell_type": "code",
   "execution_count": null,
   "id": "77bf80ce",
   "metadata": {},
   "outputs": [],
   "source": [
    "lung_gene_map.head()"
   ]
  },
  {
   "cell_type": "code",
   "execution_count": null,
   "id": "ae0910b2",
   "metadata": {},
   "outputs": [],
   "source": [
    "%%time\n",
    "# Sanity check\n",
    "sum(lung_gene_map.duplicated())"
   ]
  },
  {
   "cell_type": "code",
   "execution_count": null,
   "id": "ebb78175",
   "metadata": {},
   "outputs": [],
   "source": [
    "len(set(lung_gene_map['geneId']))"
   ]
  },
  {
   "cell_type": "code",
   "execution_count": null,
   "id": "0edb424d",
   "metadata": {},
   "outputs": [],
   "source": [
    "lung_gene_map.shape"
   ]
  },
  {
   "cell_type": "code",
   "execution_count": null,
   "id": "3f782430",
   "metadata": {},
   "outputs": [],
   "source": [
    "%%time\n",
    "# Save dataset\n",
    "with pd.HDFStore('data/KEGG/KEGG_gene_map_log2tpm_20k.h5','w') as store:\n",
    "    store['pan_gene_map_log2tpm']=pan_gene_map\n",
    "    #store['non_lung_gene_map_log2tpm']=non_lung_gene_map\n",
    "    store['lung_gene_map_log2tpm']=lung_gene_map"
   ]
  },
  {
   "cell_type": "code",
   "execution_count": null,
   "id": "7b61ef19",
   "metadata": {},
   "outputs": [],
   "source": [
    "%%time\n",
    "# Save dataset\n",
    "with pd.HDFStore('data/KEGG/KEGG_tree_map_tpm_MinMax.h5','w') as store:\n",
    "    store['pan_tree_map']=pan_tree_map\n",
    "    store['non_lung_tree_map']=non_lung_tree_map\n",
    "    store['lung_tree_map']=lung_tree_map"
   ]
  },
  {
   "cell_type": "code",
   "execution_count": null,
   "id": "ad4b0c67",
   "metadata": {},
   "outputs": [],
   "source": [
    "%%time\n",
    "# Save dataset\n",
    "with pd.HDFStore('data/KEGG/KEGG_gene_map_log2tpm_MinMax_5k.h5','w') as store:\n",
    "    store['pan_gene_map']=pan_gene_map\n",
    "    #store['non_lung_tree_map']=non_lung_tree_map\n",
    "    store['lung_gene_map']=lung_gene_map"
   ]
  },
  {
   "cell_type": "code",
   "execution_count": null,
   "id": "50402892",
   "metadata": {},
   "outputs": [],
   "source": [
    " %%time\n",
    "# Save dataset\n",
    "pan_gene_map.to_csv(\"data/KEGG/KEGG_pan_gene_map.csv\", index=False)\n",
    "lung_gene_map.to_csv(\"data/KEGG/KEGG_lung_gene_map.csv\", index=False)"
   ]
  },
  {
   "cell_type": "code",
   "execution_count": null,
   "id": "cfb5cdbf",
   "metadata": {},
   "outputs": [],
   "source": []
  }
 ],
 "metadata": {
  "kernelspec": {
   "display_name": "Python 3",
   "language": "python",
   "name": "python3"
  },
  "language_info": {
   "codemirror_mode": {
    "name": "ipython",
    "version": 3
   },
   "file_extension": ".py",
   "mimetype": "text/x-python",
   "name": "python",
   "nbconvert_exporter": "python",
   "pygments_lexer": "ipython3",
   "version": "3.8.10"
  }
 },
 "nbformat": 4,
 "nbformat_minor": 5
}
