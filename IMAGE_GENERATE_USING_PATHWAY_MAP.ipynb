{
 "cells": [
  {
   "cell_type": "code",
   "execution_count": null,
   "id": "fe1afc02",
   "metadata": {},
   "outputs": [],
   "source": [
    "import numpy as np\n",
    "import pandas as pd\n",
    "import warnings\n",
    "import math\n",
    "from PIL import Image"
   ]
  },
  {
   "cell_type": "code",
   "execution_count": null,
   "id": "388c9ba2",
   "metadata": {},
   "outputs": [],
   "source": [
    "pan_pathway_map=pd.read_hdf('data/KEGG/KEGG_pathway_map_log2tpm_MinMax_1k.h5',key='pan_pathway_map')"
   ]
  },
  {
   "cell_type": "code",
   "execution_count": null,
   "id": "fb29409d",
   "metadata": {},
   "outputs": [],
   "source": [
    "pan_pathway_map.head()"
   ]
  },
  {
   "cell_type": "code",
   "execution_count": null,
   "id": "e4d46fb4",
   "metadata": {},
   "outputs": [],
   "source": [
    "pan_pathway_map=pan_pathway_map.sort_values(by=\"order\" , ascending=False)"
   ]
  },
  {
   "cell_type": "code",
   "execution_count": null,
   "id": "5bc86ae3",
   "metadata": {},
   "outputs": [],
   "source": [
    "pan_pathway_map=pan_pathway_map.drop_duplicates(['ensembl','pathway','symbol'])"
   ]
  },
  {
   "cell_type": "code",
   "execution_count": null,
   "id": "f5e754ad",
   "metadata": {},
   "outputs": [],
   "source": [
    "pan_pathway_map.shape"
   ]
  },
  {
   "cell_type": "code",
   "execution_count": null,
   "id": "e60f3f48",
   "metadata": {},
   "outputs": [],
   "source": [
    "df=pan_pathway_map.groupby(['pathway','description']).apply(lambda x: x.sort_values(by='order', ascending=False))"
   ]
  },
  {
   "cell_type": "code",
   "execution_count": null,
   "id": "17a1bf89",
   "metadata": {},
   "outputs": [],
   "source": [
    "df"
   ]
  },
  {
   "cell_type": "code",
   "execution_count": null,
   "id": "e76985b9",
   "metadata": {},
   "outputs": [],
   "source": []
  },
  {
   "cell_type": "code",
   "execution_count": null,
   "id": "3c84e15d",
   "metadata": {},
   "outputs": [],
   "source": [
    "26*26-628"
   ]
  },
  {
   "cell_type": "code",
   "execution_count": null,
   "id": "68960c30",
   "metadata": {},
   "outputs": [],
   "source": [
    "grayscale_array=np.pad(df.iloc[:,0].values,(0,48),'constant').reshape(26,26)"
   ]
  },
  {
   "cell_type": "code",
   "execution_count": null,
   "id": "4fd6675c",
   "metadata": {},
   "outputs": [],
   "source": [
    "img = Image.fromarray(np.uint8(grayscale_array*255), 'L')\n",
    "img.show()"
   ]
  },
  {
   "cell_type": "code",
   "execution_count": null,
   "id": "743d1abc",
   "metadata": {},
   "outputs": [],
   "source": [
    "%%time\n",
    "#循环生成并保存所有pan-cancer样本为灰度图\n",
    "for i in range(0,10535):\n",
    "    exp_values=df.iloc[:,i].values\n",
    "    grayscale_array=np.pad(exp_values,(0,48),'constant')\n",
    "    grayscale_array=grayscale_array.reshape(26,26)\n",
    "    np.save('images/genes_selected/log2tpm_MinMax/pan_with_keggpathway_1k/{}.npy'.format(df.iloc[:,i].name), grayscale_array)"
   ]
  },
  {
   "cell_type": "code",
   "execution_count": null,
   "id": "a2428499",
   "metadata": {},
   "outputs": [],
   "source": [
    "lung_pathway_map=pd.read_hdf('data/KEGG/KEGG_pathway_map_log2tpm_MinMax_1k.h5',key='lung_pathway_map')"
   ]
  },
  {
   "cell_type": "code",
   "execution_count": null,
   "id": "2d4e4c56",
   "metadata": {},
   "outputs": [],
   "source": [
    "lung_pathway_map=lung_pathway_map.sort_values(by=\"order\" , ascending=False)"
   ]
  },
  {
   "cell_type": "code",
   "execution_count": null,
   "id": "0667be1b",
   "metadata": {},
   "outputs": [],
   "source": [
    "lung_pathway_map=lung_pathway_map.drop_duplicates(['ensembl','pathway','symbol'])"
   ]
  },
  {
   "cell_type": "code",
   "execution_count": null,
   "id": "f9c358ae",
   "metadata": {},
   "outputs": [],
   "source": [
    "df1=lung_pathway_map.groupby(['pathway','description']).apply(lambda x: x.sort_values(by='order', ascending=False))"
   ]
  },
  {
   "cell_type": "code",
   "execution_count": null,
   "id": "e391d9a2",
   "metadata": {},
   "outputs": [],
   "source": [
    "df1.head()"
   ]
  },
  {
   "cell_type": "code",
   "execution_count": null,
   "id": "27668da3",
   "metadata": {},
   "outputs": [],
   "source": [
    "df1.iloc[:,1122]"
   ]
  },
  {
   "cell_type": "code",
   "execution_count": null,
   "id": "143b7298",
   "metadata": {},
   "outputs": [],
   "source": [
    "%%time\n",
    "#循环生成并保存所有lung-cancer样本为灰度图\n",
    "for i in range(0,1122):\n",
    "    exp_values=df1.iloc[:,i].values\n",
    "    grayscale_array=np.pad(exp_values,(0,48),'constant')\n",
    "    grayscale_array=grayscale_array.reshape(26,26)\n",
    "    np.save('images/genes_selected/log2tpm_MinMax/lung_with_keggpathway_1k/{}.npy'.format(df1.iloc[:,i].name), grayscale_array)"
   ]
  },
  {
   "cell_type": "code",
   "execution_count": null,
   "id": "72cb201a",
   "metadata": {},
   "outputs": [],
   "source": [
    "exp_values=df1.iloc[:,1122].values\n",
    "grayscale_array=np.pad(exp_values,(0,48),'constant')\n",
    "grayscale_array=grayscale_array.reshape(26,26)\n",
    "np.save('images/genes_selected/log2tpm_MinMax/lung_with_keggpathway_1k/{}_lung.npy'.format(df1.iloc[:,1122].name), grayscale_array)"
   ]
  },
  {
   "cell_type": "code",
   "execution_count": null,
   "id": "570683a8",
   "metadata": {},
   "outputs": [],
   "source": []
  }
 ],
 "metadata": {
  "kernelspec": {
   "display_name": "Python3.8(deepSurvival)",
   "language": "python",
   "name": "deepsurvival"
  },
  "language_info": {
   "codemirror_mode": {
    "name": "ipython",
    "version": 3
   },
   "file_extension": ".py",
   "mimetype": "text/x-python",
   "name": "python",
   "nbconvert_exporter": "python",
   "pygments_lexer": "ipython3",
   "version": "3.8.10"
  }
 },
 "nbformat": 4,
 "nbformat_minor": 5
}
