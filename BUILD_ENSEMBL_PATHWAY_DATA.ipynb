{
 "cells": [
  {
   "cell_type": "code",
   "execution_count": null,
   "id": "b730bf59",
   "metadata": {},
   "outputs": [],
   "source": [
    "import pandas as pd\n",
    "import numpy as np\n",
    "import itertools\n",
    "from sklearn import preprocessing"
   ]
  },
  {
   "cell_type": "code",
   "execution_count": null,
   "id": "158e7931",
   "metadata": {},
   "outputs": [],
   "source": [
    "pathway_geneName_ensembl=pd.read_csv('data/pathways_with_ensembl_norowname.csv', engine='python', header=0, index_col=None)"
   ]
  },
  {
   "cell_type": "code",
   "execution_count": null,
   "id": "4094b00c",
   "metadata": {},
   "outputs": [],
   "source": [
    "pathway_geneName_ensembl.head()"
   ]
  },
  {
   "cell_type": "code",
   "execution_count": null,
   "id": "9d4a86f4",
   "metadata": {},
   "outputs": [],
   "source": [
    "%%time\n",
    "#读取基因表达数据\n",
    "pan_gene_filtered = pd.read_hdf(\"data/Preprocessed_Data/pan_gene_filtered_1k.h5\", \n",
    "                      key = \"pan_gene_filtered\")\n",
    "lung_gene_filtered = pd.read_hdf(\"data/Preprocessed_Data/lung_gene_filtered_1k.h5\", \n",
    "                      key = \"lung_gene_filtered\")"
   ]
  },
  {
   "cell_type": "code",
   "execution_count": null,
   "id": "d558066d",
   "metadata": {},
   "outputs": [],
   "source": [
    "for i in list(pan_gene_filtered.columns):\n",
    "    Max = np.max(pan_gene_filtered[i])\n",
    "    Min = np.min(pan_gene_filtered[i])\n",
    "    pan_gene_filtered[i] = (pan_gene_filtered[i] - Min)/(Max - Min)"
   ]
  },
  {
   "cell_type": "code",
   "execution_count": null,
   "id": "eef45ee1",
   "metadata": {},
   "outputs": [],
   "source": [
    "pan_gene_filtered=pan_gene_filtered.fillna(0)"
   ]
  },
  {
   "cell_type": "code",
   "execution_count": null,
   "id": "9576a386",
   "metadata": {
    "scrolled": true
   },
   "outputs": [],
   "source": [
    "pan_index=[]\n",
    "for ensembl in pan_gene_filtered.T.index:\n",
    "    pan_index.append(ensembl[0:15])"
   ]
  },
  {
   "cell_type": "code",
   "execution_count": null,
   "id": "8466084c",
   "metadata": {},
   "outputs": [],
   "source": [
    "pan_gene_filtered.columns=pan_index"
   ]
  },
  {
   "cell_type": "code",
   "execution_count": null,
   "id": "a68f00a1",
   "metadata": {},
   "outputs": [],
   "source": [
    "pan_gene_filtered"
   ]
  },
  {
   "cell_type": "code",
   "execution_count": null,
   "id": "5a6ebfa8",
   "metadata": {},
   "outputs": [],
   "source": [
    "for i in list(lung_gene_filtered.columns):\n",
    "   # 获取各个指标的最大值和最小值\n",
    "    Max = np.max(lung_gene_filtered[i])\n",
    "    Min = np.min(lung_gene_filtered[i])\n",
    "    lung_gene_filtered[i] = (lung_gene_filtered[i] - Min)/(Max - Min)"
   ]
  },
  {
   "cell_type": "code",
   "execution_count": null,
   "id": "1068df92",
   "metadata": {},
   "outputs": [],
   "source": [
    "lung_gene_filtered=lung_gene_filtered.fillna(0)"
   ]
  },
  {
   "cell_type": "code",
   "execution_count": null,
   "id": "2f8291d3",
   "metadata": {},
   "outputs": [],
   "source": [
    "lung_gene_filtered.T.index"
   ]
  },
  {
   "cell_type": "code",
   "execution_count": null,
   "id": "d95daf29",
   "metadata": {},
   "outputs": [],
   "source": [
    "lung_index=[]\n",
    "for ensembl in lung_gene_filtered.T.index:\n",
    "    lung_index.append(ensembl[0:15])\n",
    "lung_gene_filtered.columns=lung_index"
   ]
  },
  {
   "cell_type": "code",
   "execution_count": null,
   "id": "f7de8864",
   "metadata": {},
   "outputs": [],
   "source": [
    "lung_gene_filtered"
   ]
  },
  {
   "cell_type": "code",
   "execution_count": null,
   "id": "56b7b524",
   "metadata": {},
   "outputs": [],
   "source": [
    "#number of ensembl geneids associated with pathways\n",
    "len(set(pathway_geneName_ensembl['ensembl']))"
   ]
  },
  {
   "cell_type": "code",
   "execution_count": null,
   "id": "7f7f3ba2",
   "metadata": {},
   "outputs": [],
   "source": [
    "ensembls_expre=pan_gene_filtered.columns"
   ]
  },
  {
   "cell_type": "code",
   "execution_count": null,
   "id": "82c4d532",
   "metadata": {},
   "outputs": [],
   "source": [
    "ensembls_expre"
   ]
  },
  {
   "cell_type": "code",
   "execution_count": null,
   "id": "568fed3f",
   "metadata": {},
   "outputs": [],
   "source": [
    "pathway_geneName_ensembl=pathway_geneName_ensembl[pathway_geneName_ensembl['ensembl'].isin(ensembls_expre)]\n",
    "pathway_geneName_ensembl.shape"
   ]
  },
  {
   "cell_type": "code",
   "execution_count": null,
   "id": "7464a2ce",
   "metadata": {},
   "outputs": [],
   "source": [
    "pathway_geneName_ensembl.head()"
   ]
  },
  {
   "cell_type": "code",
   "execution_count": null,
   "id": "a39e3f23",
   "metadata": {},
   "outputs": [],
   "source": [
    "pathway_geneName_ensembl.index=pathway_geneName_ensembl['ensembl']\n",
    "pathway_geneName_ensembl['ensembl'].name='ensid'"
   ]
  },
  {
   "cell_type": "code",
   "execution_count": null,
   "id": "a4e59da3",
   "metadata": {},
   "outputs": [],
   "source": [
    "pan_expre_pathway=pan_gene_filtered.T\n",
    "pan_expre_pathway.index.name='ensid'\n",
    "pan_expre_pathway['order']=pan_gene_filtered.mean(axis=0)\n",
    "pan_expre_pathway=pd.merge(pan_expre_pathway,pathway_geneName_ensembl,on='ensid')"
   ]
  },
  {
   "cell_type": "code",
   "execution_count": null,
   "id": "81a2a7a5",
   "metadata": {},
   "outputs": [],
   "source": [
    "pan_expre_pathway"
   ]
  },
  {
   "cell_type": "code",
   "execution_count": null,
   "id": "b415965b",
   "metadata": {},
   "outputs": [],
   "source": [
    "lung_expre_pathway=lung_gene_filtered.T\n",
    "lung_expre_pathway.index.name='ensid'\n",
    "lung_expre_pathway['order']=lung_gene_filtered.mean(axis=0)\n",
    "lung_expre_pathway=pd.merge(lung_expre_pathway,pathway_geneName_ensembl,on='ensid')"
   ]
  },
  {
   "cell_type": "code",
   "execution_count": null,
   "id": "56003375",
   "metadata": {},
   "outputs": [],
   "source": [
    "lung_expre_pathway"
   ]
  },
  {
   "cell_type": "code",
   "execution_count": null,
   "id": "a8a6b16e",
   "metadata": {},
   "outputs": [],
   "source": [
    "%%time\n",
    "# Save dataset\n",
    "with pd.HDFStore('data/KEGG/KEGG_pathway_map_log2tpm_MinMax_1k.h5','w') as store:\n",
    "    store['pan_pathway_map']=pan_expre_pathway\n",
    "    #store['non_lung_tree_map']=non_lung_tree_map\n",
    "    store['lung_pathway_map']=lung_expre_pathway"
   ]
  },
  {
   "cell_type": "code",
   "execution_count": null,
   "id": "5f827ed0",
   "metadata": {},
   "outputs": [],
   "source": []
  }
 ],
 "metadata": {
  "kernelspec": {
   "display_name": "Python3.8(deepSurvival)",
   "language": "python",
   "name": "deepsurvival"
  },
  "language_info": {
   "codemirror_mode": {
    "name": "ipython",
    "version": 3
   },
   "file_extension": ".py",
   "mimetype": "text/x-python",
   "name": "python",
   "nbconvert_exporter": "python",
   "pygments_lexer": "ipython3",
   "version": "3.8.10"
  }
 },
 "nbformat": 4,
 "nbformat_minor": 5
}
